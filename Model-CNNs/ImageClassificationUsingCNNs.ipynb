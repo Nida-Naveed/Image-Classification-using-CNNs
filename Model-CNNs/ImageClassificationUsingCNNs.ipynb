{
  "nbformat": 4,
  "nbformat_minor": 0,
  "metadata": {
    "colab": {
      "provenance": []
    },
    "kernelspec": {
      "name": "python3",
      "display_name": "Python 3"
    },
    "language_info": {
      "name": "python"
    }
  },
  "cells": [
    {
      "cell_type": "markdown",
      "source": [
        "# Image Classification using CNN\n",
        "CIFAR Dataset - the 10 classification categories are:\n",
        "\n",
        "1. airplane\n",
        "2. automobile\n",
        "3. bird\n",
        "4. cat\n",
        "5. deer\n",
        "6. dog\n",
        "7. frog\n",
        "8. horse\n",
        "9. ship\n",
        "10. truck\n",
        "\n",
        "\n"
      ],
      "metadata": {
        "id": "RJcZD0Cj9ACR"
      }
    },
    {
      "cell_type": "code",
      "execution_count": 3,
      "metadata": {
        "id": "hmDMQQ1N82xd"
      },
      "outputs": [],
      "source": [
        "#importing necessary Libraries\n",
        "import tensorflow as tf\n",
        "from tensorflow.keras import datasets, layers, models\n",
        "import matplotlib.pyplot as plt\n",
        "import numpy as np\n"
      ]
    },
    {
      "cell_type": "code",
      "source": [
        "#importcifar dataset\n",
        "(X_train, Y_train), (X_test, Y_test) = datasets.cifar10.load_data()\n",
        "#print shape of data and labels\n",
        "\n",
        "X_train.shape,X_test.shape"
      ],
      "metadata": {
        "colab": {
          "base_uri": "https://localhost:8080/"
        },
        "id": "QGzWi9cB_5-j",
        "outputId": "2a6c4dd5-d902-45a9-fc3b-8d8da92ccb0b"
      },
      "execution_count": 4,
      "outputs": [
        {
          "output_type": "execute_result",
          "data": {
            "text/plain": [
              "((50000, 32, 32, 3), (10000, 32, 32, 3))"
            ]
          },
          "metadata": {},
          "execution_count": 4
        }
      ]
    },
    {
      "cell_type": "code",
      "source": [
        "Y_train.shape,Y_test.shape"
      ],
      "metadata": {
        "colab": {
          "base_uri": "https://localhost:8080/"
        },
        "id": "XDpOM8bXN5rt",
        "outputId": "fb038f99-be64-4f76-ee12-ce0269e520c8"
      },
      "execution_count": 5,
      "outputs": [
        {
          "output_type": "execute_result",
          "data": {
            "text/plain": [
              "((50000, 1), (10000, 1))"
            ]
          },
          "metadata": {},
          "execution_count": 5
        }
      ]
    },
    {
      "cell_type": "markdown",
      "source": [
        "The labels here show supervised learning since the test and trainig sets have labelled images: where 0: airplane', 1:'automobile', 2:'bird', 3: 'cat', 4:'deer', 5:'dog', 6:'frog', 7:'horse', 8: 'ship', 9:'truck'\n",
        "\n"
      ],
      "metadata": {
        "id": "iBtGOzsdO202"
      }
    },
    {
      "cell_type": "code",
      "source": [
        "Y_train[:5]"
      ],
      "metadata": {
        "colab": {
          "base_uri": "https://localhost:8080/"
        },
        "id": "UqbkYw5qPfcf",
        "outputId": "fbb6bc92-005f-4262-8d16-bc9e89d00721"
      },
      "execution_count": 6,
      "outputs": [
        {
          "output_type": "execute_result",
          "data": {
            "text/plain": [
              "array([[6],\n",
              "       [9],\n",
              "       [9],\n",
              "       [4],\n",
              "       [1]], dtype=uint8)"
            ]
          },
          "metadata": {},
          "execution_count": 6
        }
      ]
    },
    {
      "cell_type": "code",
      "source": [
        "classes=['airplane','automobile','bird','cat','deer','dog','frog','horse','ship','truck']"
      ],
      "metadata": {
        "id": "fgPSgAlNOC3L"
      },
      "execution_count": 45,
      "outputs": []
    },
    {
      "cell_type": "code",
      "source": [
        "#reshaping the images labels - flattening the arrays\n",
        "train_labels=Y_train.reshape(-1,)\n",
        "test_labels=Y_test.reshape(-1,)"
      ],
      "metadata": {
        "id": "DqAhQ2M7Py1Z"
      },
      "execution_count": 30,
      "outputs": []
    },
    {
      "cell_type": "code",
      "source": [
        "#plot to visualize\n",
        "#small image to see clearly\n",
        "def plot_sample(X,y,index):\n",
        "  plt.figure(figsize=(15,2))\n",
        "  plt.imshow(X[index])\n",
        "  plt.xlabel(classes[y[index]])"
      ],
      "metadata": {
        "id": "gEZPqADnA6zG"
      },
      "execution_count": 9,
      "outputs": []
    },
    {
      "cell_type": "code",
      "source": [
        "#plotting the sample\n",
        "plot_sample(X_train,train_labels,0)"
      ],
      "metadata": {
        "colab": {
          "base_uri": "https://localhost:8080/",
          "height": 237
        },
        "id": "tPoTb7yjQHF0",
        "outputId": "a8b8fd06-4c8f-4a5a-8504-5e6dd8bb30c9"
      },
      "execution_count": 10,
      "outputs": [
        {
          "output_type": "display_data",
          "data": {
            "text/plain": [
              "<Figure size 1500x200 with 1 Axes>"
            ],
            "image/png": "[encoded data removed]"
          },
          "metadata": {}
        }
      ]
    },
    {
      "cell_type": "code",
      "source": [
        "#plotting the sample\n",
        "plot_sample(X_train,train_labels,3)"
      ],
      "metadata": {
        "colab": {
          "base_uri": "https://localhost:8080/",
          "height": 237
        },
        "id": "VHhljORrQmtG",
        "outputId": "6edc5a9b-3d05-4562-c114-57cb61647a89"
      },
      "execution_count": 11,
      "outputs": [
        {
          "output_type": "display_data",
          "data": {
            "text/plain": [
              "<Figure size 1500x200 with 1 Axes>"
            ],
            "image/png": "[encoded data removed]"
          },
          "metadata": {}
        }
      ]
    },
    {
      "cell_type": "code",
      "source": [
        "# normalize the data to divide by the pixel value 0~255\n",
        "X_train, X_test = X_train / 255.0, X_test / 255.0"
      ],
      "metadata": {
        "id": "61GfFmHtQs1D"
      },
      "execution_count": 12,
      "outputs": []
    },
    {
      "cell_type": "code",
      "source": [
        "X_train[0]"
      ],
      "metadata": {
        "colab": {
          "base_uri": "https://localhost:8080/"
        },
        "id": "HoZrXf78Q8P3",
        "outputId": "1431d625-99d7-4b2c-8440-f81e856ac11d"
      },
      "execution_count": 13,
      "outputs": [
        {
          "output_type": "execute_result",
          "data": {
            "text/plain": [
              "array([[[0.23137255, 0.24313725, 0.24705882],\n",
              "        [0.16862745, 0.18039216, 0.17647059],\n",
              "        [0.19607843, 0.18823529, 0.16862745],\n",
              "        ...,\n",
              "        [0.61960784, 0.51764706, 0.42352941],\n",
              "        [0.59607843, 0.49019608, 0.4       ],\n",
              "        [0.58039216, 0.48627451, 0.40392157]],\n",
              "\n",
              "       [[0.0627451 , 0.07843137, 0.07843137],\n",
              "        [0.        , 0.        , 0.        ],\n",
              "        [0.07058824, 0.03137255, 0.        ],\n",
              "        ...,\n",
              "        [0.48235294, 0.34509804, 0.21568627],\n",
              "        [0.46666667, 0.3254902 , 0.19607843],\n",
              "        [0.47843137, 0.34117647, 0.22352941]],\n",
              "\n",
              "       [[0.09803922, 0.09411765, 0.08235294],\n",
              "        [0.0627451 , 0.02745098, 0.        ],\n",
              "        [0.19215686, 0.10588235, 0.03137255],\n",
              "        ...,\n",
              "        [0.4627451 , 0.32941176, 0.19607843],\n",
              "        [0.47058824, 0.32941176, 0.19607843],\n",
              "        [0.42745098, 0.28627451, 0.16470588]],\n",
              "\n",
              "       ...,\n",
              "\n",
              "       [[0.81568627, 0.66666667, 0.37647059],\n",
              "        [0.78823529, 0.6       , 0.13333333],\n",
              "        [0.77647059, 0.63137255, 0.10196078],\n",
              "        ...,\n",
              "        [0.62745098, 0.52156863, 0.2745098 ],\n",
              "        [0.21960784, 0.12156863, 0.02745098],\n",
              "        [0.20784314, 0.13333333, 0.07843137]],\n",
              "\n",
              "       [[0.70588235, 0.54509804, 0.37647059],\n",
              "        [0.67843137, 0.48235294, 0.16470588],\n",
              "        [0.72941176, 0.56470588, 0.11764706],\n",
              "        ...,\n",
              "        [0.72156863, 0.58039216, 0.36862745],\n",
              "        [0.38039216, 0.24313725, 0.13333333],\n",
              "        [0.3254902 , 0.20784314, 0.13333333]],\n",
              "\n",
              "       [[0.69411765, 0.56470588, 0.45490196],\n",
              "        [0.65882353, 0.50588235, 0.36862745],\n",
              "        [0.70196078, 0.55686275, 0.34117647],\n",
              "        ...,\n",
              "        [0.84705882, 0.72156863, 0.54901961],\n",
              "        [0.59215686, 0.4627451 , 0.32941176],\n",
              "        [0.48235294, 0.36078431, 0.28235294]]])"
            ]
          },
          "metadata": {},
          "execution_count": 13
        }
      ]
    },
    {
      "cell_type": "markdown",
      "source": [
        "> First I have built the simple traditional artificial neural network (ANN) to compare its performance with the CNNs later on."
      ],
      "metadata": {
        "id": "cFmOOcswReEr"
      }
    },
    {
      "cell_type": "code",
      "source": [
        "#Flatten the images for ANN - since in ANNs we use 1D array not the 3-channel of RGB or some 2D or 3D image.\n",
        "X_train_flatten = X_train.reshape(-1, 32 * 32 * 3)\n",
        "X_test_flatten = X_test.reshape(-1, 32 * 32 * 3)"
      ],
      "metadata": {
        "id": "8wJdVCKvN_9G"
      },
      "execution_count": 14,
      "outputs": []
    },
    {
      "cell_type": "code",
      "source": [
        "#Define the ANN\n",
        "ann = models.Sequential([\n",
        "        layers.Dense(512, activation='relu',input_shape=(3072,)),  # 3072 is 32*32*3 = total pixels : len*width*total channels\n",
        "        layers.Dense(256, activation='relu'),\n",
        "        layers.Dense(10, activation='softmax')    # 10 output classes\n",
        "    ])"
      ],
      "metadata": {
        "colab": {
          "base_uri": "https://localhost:8080/"
        },
        "id": "a_tULRFTObwi",
        "outputId": "6424ffbc-2e9f-46f9-c440-7f54c1f04bc3"
      },
      "execution_count": 15,
      "outputs": [
        {
          "output_type": "stream",
          "name": "stderr",
          "text": [
            "/usr/local/lib/python3.10/dist-packages/keras/src/layers/core/dense.py:87: UserWarning: Do not pass an `input_shape`/`input_dim` argument to a layer. When using Sequential models, prefer using an `Input(shape)` object as the first layer in the model instead.\n",
            "  super().__init__(activity_regularizer=activity_regularizer, **kwargs)\n"
          ]
        }
      ]
    },
    {
      "cell_type": "code",
      "source": [
        "#Compile the model\n",
        "ann.compile(optimizer='SGD',\n",
        "              loss='sparse_categorical_crossentropy',\n",
        "              metrics=['accuracy'])"
      ],
      "metadata": {
        "id": "SdHd82WTPGgL"
      },
      "execution_count": 16,
      "outputs": []
    },
    {
      "cell_type": "code",
      "source": [
        "X_train.shape,Y_train.shape"
      ],
      "metadata": {
        "colab": {
          "base_uri": "https://localhost:8080/"
        },
        "id": "mepsMh_KSVIR",
        "outputId": "80b50914-0a64-4bf2-d888-d6e76785705c"
      },
      "execution_count": 17,
      "outputs": [
        {
          "output_type": "execute_result",
          "data": {
            "text/plain": [
              "((50000, 32, 32, 3), (50000, 1))"
            ]
          },
          "metadata": {},
          "execution_count": 17
        }
      ]
    },
    {
      "cell_type": "code",
      "source": [
        "#train model\n",
        "history = ann.fit(X_train_flatten, Y_train, epochs=5)\n",
        "validation_data = (X_test_flatten,Y_test)"
      ],
      "metadata": {
        "colab": {
          "base_uri": "https://localhost:8080/"
        },
        "id": "ccX023wkPZVj",
        "outputId": "cb3f20ba-1319-43a6-cdc9-6ff000eeec20"
      },
      "execution_count": 18,
      "outputs": [
        {
          "output_type": "stream",
          "name": "stdout",
          "text": [
            "Epoch 1/5\n",
            "\u001b[1m1563/1563\u001b[0m \u001b[32m━━━━━━━━━━━━━━━━━━━━\u001b[0m\u001b[37m\u001b[0m \u001b[1m21s\u001b[0m 13ms/step - accuracy: 0.2880 - loss: 1.9684\n",
            "Epoch 2/5\n",
            "\u001b[1m1563/1563\u001b[0m \u001b[32m━━━━━━━━━━━━━━━━━━━━\u001b[0m\u001b[37m\u001b[0m \u001b[1m42s\u001b[0m 14ms/step - accuracy: 0.3994 - loss: 1.6974\n",
            "Epoch 3/5\n",
            "\u001b[1m1563/1563\u001b[0m \u001b[32m━━━━━━━━━━━━━━━━━━━━\u001b[0m\u001b[37m\u001b[0m \u001b[1m20s\u001b[0m 13ms/step - accuracy: 0.4357 - loss: 1.5972\n",
            "Epoch 4/5\n",
            "\u001b[1m1563/1563\u001b[0m \u001b[32m━━━━━━━━━━━━━━━━━━━━\u001b[0m\u001b[37m\u001b[0m \u001b[1m21s\u001b[0m 13ms/step - accuracy: 0.4597 - loss: 1.5374\n",
            "Epoch 5/5\n",
            "\u001b[1m1563/1563\u001b[0m \u001b[32m━━━━━━━━━━━━━━━━━━━━\u001b[0m\u001b[37m\u001b[0m \u001b[1m41s\u001b[0m 13ms/step - accuracy: 0.4707 - loss: 1.4973\n"
          ]
        }
      ]
    },
    {
      "cell_type": "code",
      "source": [
        "##evaluate the model\n",
        "loss, accuracy = ann.evaluate(X_test_flatten, Y_test)\n",
        "print(f\"Test Loss: {loss}\")\n",
        "print(f\"Test Accuracy: {accuracy}\")"
      ],
      "metadata": {
        "colab": {
          "base_uri": "https://localhost:8080/"
        },
        "id": "GSM0VvnXYACK",
        "outputId": "1cd5cd66-f9b1-4d13-d42b-173a26f2aed8"
      },
      "execution_count": 19,
      "outputs": [
        {
          "output_type": "stream",
          "name": "stdout",
          "text": [
            "\u001b[1m313/313\u001b[0m \u001b[32m━━━━━━━━━━━━━━━━━━━━\u001b[0m\u001b[37m\u001b[0m \u001b[1m2s\u001b[0m 7ms/step - accuracy: 0.4333 - loss: 1.6495\n",
            "Test Loss: 1.6487646102905273\n",
            "Test Accuracy: 0.43059998750686646\n"
          ]
        }
      ]
    },
    {
      "cell_type": "markdown",
      "source": [
        "> The progress of the ANN's training over 4 epochs shows that with each epoch, the model's accuracy generally improves and the loss decreases, indicating that model is learning from the training data."
      ],
      "metadata": {
        "id": "J-szT6yEYqY-"
      }
    },
    {
      "cell_type": "code",
      "source": [
        "#make predictions\n",
        "y_pred = ann.predict(X_test_flatten)\n",
        "y_pred_classes = [np.argmax(element) for element in y_pred]\n",
        "\n",
        "y_pred[:5]\n"
      ],
      "metadata": {
        "colab": {
          "base_uri": "https://localhost:8080/"
        },
        "id": "NKck_7IqZAm_",
        "outputId": "9ec7d147-54d3-4fe0-e14f-8a2910101b1c"
      },
      "execution_count": 20,
      "outputs": [
        {
          "output_type": "stream",
          "name": "stdout",
          "text": [
            "\u001b[1m313/313\u001b[0m \u001b[32m━━━━━━━━━━━━━━━━━━━━\u001b[0m\u001b[37m\u001b[0m \u001b[1m2s\u001b[0m 5ms/step\n"
          ]
        },
        {
          "output_type": "execute_result",
          "data": {
            "text/plain": [
              "array([[6.35019839e-02, 2.51462072e-01, 6.57531098e-02, 2.18600288e-01,\n",
              "        2.35728770e-02, 7.62554780e-02, 1.05061106e-01, 4.40830132e-03,\n",
              "        1.85204342e-01, 6.18039398e-03],\n",
              "       [5.54577857e-02, 3.53983998e-01, 7.04726495e-04, 3.89477093e-04,\n",
              "        6.12105010e-04, 7.99091795e-05, 3.89559937e-05, 1.88400518e-04,\n",
              "        4.17180210e-01, 1.71364456e-01],\n",
              "       [1.47828177e-01, 3.74801815e-01, 9.05736291e-04, 2.54934217e-04,\n",
              "        6.62549050e-04, 2.24177653e-04, 1.04812398e-05, 6.53010444e-04,\n",
              "        4.21812713e-01, 5.28464653e-02],\n",
              "       [3.66371512e-01, 1.17465675e-01, 7.65460823e-03, 1.29674864e-03,\n",
              "        5.48061961e-03, 1.04255369e-03, 1.45181373e-04, 6.91697188e-03,\n",
              "        4.82045531e-01, 1.15805948e-02],\n",
              "       [2.65552718e-02, 2.28578094e-02, 8.33600760e-02, 3.62391062e-02,\n",
              "        5.51553071e-01, 4.62559350e-02, 1.41669571e-01, 5.93455285e-02,\n",
              "        2.85022054e-02, 3.66145023e-03]], dtype=float32)"
            ]
          },
          "metadata": {},
          "execution_count": 20
        }
      ]
    },
    {
      "cell_type": "code",
      "source": [
        "#verify predictions\n",
        "print(np.argmax(y_pred[0]))\n",
        "print(classes[np.argmax(y_pred[0])])"
      ],
      "metadata": {
        "colab": {
          "base_uri": "https://localhost:8080/"
        },
        "id": "OnQ5hDxOZOKp",
        "outputId": "4f59ee72-ab2a-4e71-bb51-1daea60d406a"
      },
      "execution_count": 22,
      "outputs": [
        {
          "output_type": "stream",
          "name": "stdout",
          "text": [
            "1\n",
            "automobile\n"
          ]
        }
      ]
    },
    {
      "cell_type": "markdown",
      "source": [
        "Correct Prediction since 1 position in the array is automobile."
      ],
      "metadata": {
        "id": "jNBXz4K4ZnfJ"
      }
    },
    {
      "cell_type": "code",
      "source": [
        "from sklearn.metrics import classification_report\n",
        "\n",
        "# Assuming 'y_pred_classes' contains the predicted classes\n",
        "# and 'Y_test' contains the true classes\n",
        "\n",
        "# Generate the classification report\n",
        "report = classification_report(Y_test, y_pred_classes, target_names=classes)\n",
        "\n",
        "# Print the report\n",
        "print(report)\n"
      ],
      "metadata": {
        "colab": {
          "base_uri": "https://localhost:8080/"
        },
        "id": "h9MSShBSa7tc",
        "outputId": "f51c47e4-ec3f-4d8d-dc38-9c1e2f927106"
      },
      "execution_count": 23,
      "outputs": [
        {
          "output_type": "stream",
          "name": "stdout",
          "text": [
            "              precision    recall  f1-score   support\n",
            "\n",
            "    airplane       0.34      0.69      0.46      1000\n",
            "  automobile       0.37      0.80      0.51      1000\n",
            "        bird       0.40      0.19      0.26      1000\n",
            "         cat       0.37      0.19      0.25      1000\n",
            "        deer       0.50      0.27      0.35      1000\n",
            "         dog       0.45      0.23      0.31      1000\n",
            "        frog       0.49      0.52      0.50      1000\n",
            "       horse       0.53      0.47      0.50      1000\n",
            "        ship       0.50      0.61      0.55      1000\n",
            "       truck       0.53      0.34      0.41      1000\n",
            "\n",
            "    accuracy                           0.43     10000\n",
            "   macro avg       0.45      0.43      0.41     10000\n",
            "weighted avg       0.45      0.43      0.41     10000\n",
            "\n"
          ]
        }
      ]
    },
    {
      "cell_type": "markdown",
      "source": [
        "1. Low Precision and Recall: Most classes have relatively low precision and recall values, indicating that the model is struggling to correctly identify instances of those classes.\n",
        "2. Imbalanced Performance: The model performs better on certain classes (e.g., \"automobile\") compared to others (e.g., \"bird\", \"cat\").\n",
        "3. Low F1-scores: The F1-scores are generally low, which is also a bad performance indicator."
      ],
      "metadata": {
        "id": "SnakBxD6bQfG"
      }
    },
    {
      "cell_type": "markdown",
      "source": [
        ">Now let's use CNN for prediction."
      ],
      "metadata": {
        "id": "sGh_IxR1Zwd_"
      }
    },
    {
      "cell_type": "code",
      "source": [
        "#CNNS: dense network\n",
        "cnn = models.Sequential([\n",
        "\n",
        "        #cnn\n",
        "        layers.Conv2D(filters=32, kernel_size=(3, 3), activation='relu', input_shape=(32, 32, 3)),\n",
        "        layers.MaxPooling2D((2, 2)),\n",
        "\n",
        "        layers.Conv2D(filters=32, kernel_size=(3, 3), activation='relu', input_shape=(32, 32, 3)),\n",
        "        layers.MaxPooling2D((2, 2)),\n",
        "        #dense\n",
        "        layers.Flatten(),\n",
        "        layers.Dense(64, activation='relu'),      #input layer\n",
        "        layers.Dense(10, activation='softmax')    # 10 output classes - softmac: normalizes the probabilities\n",
        "    ])"
      ],
      "metadata": {
        "colab": {
          "base_uri": "https://localhost:8080/"
        },
        "id": "2eDnM2dxaBTH",
        "outputId": "b3d5dec0-04c7-4b34-b53a-b0c6c9839147"
      },
      "execution_count": 24,
      "outputs": [
        {
          "output_type": "stream",
          "name": "stderr",
          "text": [
            "/usr/local/lib/python3.10/dist-packages/keras/src/layers/convolutional/base_conv.py:107: UserWarning: Do not pass an `input_shape`/`input_dim` argument to a layer. When using Sequential models, prefer using an `Input(shape)` object as the first layer in the model instead.\n",
            "  super().__init__(activity_regularizer=activity_regularizer, **kwargs)\n"
          ]
        }
      ]
    },
    {
      "cell_type": "code",
      "source": [
        "#complie\n",
        "cnn.compile(optimizer='adam',\n",
        "              loss='sparse_categorical_crossentropy',\n",
        "              metrics=['accuracy'])"
      ],
      "metadata": {
        "id": "dDKQp7A-iIzq"
      },
      "execution_count": 25,
      "outputs": []
    },
    {
      "cell_type": "code",
      "source": [
        "#train\n",
        "cnn.fit(X_train, Y_train, epochs=10)"
      ],
      "metadata": {
        "colab": {
          "base_uri": "https://localhost:8080/"
        },
        "id": "728PpzpAiL7b",
        "outputId": "aea9de84-aaa7-48f8-ff47-f63df8ed9073"
      },
      "execution_count": 26,
      "outputs": [
        {
          "output_type": "stream",
          "name": "stdout",
          "text": [
            "Epoch 1/10\n",
            "\u001b[1m1563/1563\u001b[0m \u001b[32m━━━━━━━━━━━━━━━━━━━━\u001b[0m\u001b[37m\u001b[0m \u001b[1m50s\u001b[0m 31ms/step - accuracy: 0.3709 - loss: 1.7344\n",
            "Epoch 2/10\n",
            "\u001b[1m1563/1563\u001b[0m \u001b[32m━━━━━━━━━━━━━━━━━━━━\u001b[0m\u001b[37m\u001b[0m \u001b[1m48s\u001b[0m 31ms/step - accuracy: 0.5620 - loss: 1.2399\n",
            "Epoch 3/10\n",
            "\u001b[1m1563/1563\u001b[0m \u001b[32m━━━━━━━━━━━━━━━━━━━━\u001b[0m\u001b[37m\u001b[0m \u001b[1m84s\u001b[0m 32ms/step - accuracy: 0.6246 - loss: 1.0722\n",
            "Epoch 4/10\n",
            "\u001b[1m1563/1563\u001b[0m \u001b[32m━━━━━━━━━━━━━━━━━━━━\u001b[0m\u001b[37m\u001b[0m \u001b[1m48s\u001b[0m 31ms/step - accuracy: 0.6522 - loss: 0.9937\n",
            "Epoch 5/10\n",
            "\u001b[1m1563/1563\u001b[0m \u001b[32m━━━━━━━━━━━━━━━━━━━━\u001b[0m\u001b[37m\u001b[0m \u001b[1m90s\u001b[0m 36ms/step - accuracy: 0.6715 - loss: 0.9332\n",
            "Epoch 6/10\n",
            "\u001b[1m1563/1563\u001b[0m \u001b[32m━━━━━━━━━━━━━━━━━━━━\u001b[0m\u001b[37m\u001b[0m \u001b[1m51s\u001b[0m 33ms/step - accuracy: 0.6940 - loss: 0.8815\n",
            "Epoch 7/10\n",
            "\u001b[1m1563/1563\u001b[0m \u001b[32m━━━━━━━━━━━━━━━━━━━━\u001b[0m\u001b[37m\u001b[0m \u001b[1m78s\u001b[0m 30ms/step - accuracy: 0.7053 - loss: 0.8450\n",
            "Epoch 8/10\n",
            "\u001b[1m1563/1563\u001b[0m \u001b[32m━━━━━━━━━━━━━━━━━━━━\u001b[0m\u001b[37m\u001b[0m \u001b[1m82s\u001b[0m 30ms/step - accuracy: 0.7177 - loss: 0.8090\n",
            "Epoch 9/10\n",
            "\u001b[1m1563/1563\u001b[0m \u001b[32m━━━━━━━━━━━━━━━━━━━━\u001b[0m\u001b[37m\u001b[0m \u001b[1m49s\u001b[0m 32ms/step - accuracy: 0.7290 - loss: 0.7737\n",
            "Epoch 10/10\n",
            "\u001b[1m1563/1563\u001b[0m \u001b[32m━━━━━━━━━━━━━━━━━━━━\u001b[0m\u001b[37m\u001b[0m \u001b[1m54s\u001b[0m 34ms/step - accuracy: 0.7413 - loss: 0.7400\n"
          ]
        },
        {
          "output_type": "execute_result",
          "data": {
            "text/plain": [
              "<keras.src.callbacks.history.History at 0x792efe776470>"
            ]
          },
          "metadata": {},
          "execution_count": 26
        }
      ]
    },
    {
      "cell_type": "code",
      "source": [
        "#evaluate the cnn model\n",
        "cnn.evaluate(X_test,Y_test)"
      ],
      "metadata": {
        "colab": {
          "base_uri": "https://localhost:8080/"
        },
        "id": "mTmODgjEjYB4",
        "outputId": "ca0e4762-e314-45af-b013-26d388293708"
      },
      "execution_count": 27,
      "outputs": [
        {
          "output_type": "stream",
          "name": "stdout",
          "text": [
            "\u001b[1m313/313\u001b[0m \u001b[32m━━━━━━━━━━━━━━━━━━━━\u001b[0m\u001b[37m\u001b[0m \u001b[1m4s\u001b[0m 13ms/step - accuracy: 0.6714 - loss: 0.9541\n"
          ]
        },
        {
          "output_type": "execute_result",
          "data": {
            "text/plain": [
              "[0.9538038969039917, 0.6754000186920166]"
            ]
          },
          "metadata": {},
          "execution_count": 27
        }
      ]
    },
    {
      "cell_type": "markdown",
      "source": [
        ">Here this model came out to be 70% accurate on the test set, which is pretty decent value in such a dataset."
      ],
      "metadata": {
        "id": "vKA79HLuk_Od"
      }
    },
    {
      "cell_type": "code",
      "source": [
        "# check model\n",
        "plot_sample(X_test,test_labels,1)"
      ],
      "metadata": {
        "colab": {
          "base_uri": "https://localhost:8080/",
          "height": 237
        },
        "id": "zFC_qP_sleW3",
        "outputId": "8f5877e6-6c06-4ece-fd6e-fb1c539e2d7b"
      },
      "execution_count": 31,
      "outputs": [
        {
          "output_type": "display_data",
          "data": {
            "text/plain": [
              "<Figure size 1500x200 with 1 Axes>"
            ],
            "image/png": "[encoded data removed]"
          },
          "metadata": {}
        }
      ]
    },
    {
      "cell_type": "code",
      "source": [
        "#predict\n",
        "y_pred = cnn.predict(X_test)\n",
        "y_pred[:5]"
      ],
      "metadata": {
        "colab": {
          "base_uri": "https://localhost:8080/"
        },
        "id": "PT3MOgOsmQ1R",
        "outputId": "750a13c4-51d0-4651-c1a2-64009bd5221b"
      },
      "execution_count": 40,
      "outputs": [
        {
          "output_type": "stream",
          "name": "stdout",
          "text": [
            "\u001b[1m313/313\u001b[0m \u001b[32m━━━━━━━━━━━━━━━━━━━━\u001b[0m\u001b[37m\u001b[0m \u001b[1m5s\u001b[0m 15ms/step\n"
          ]
        },
        {
          "output_type": "execute_result",
          "data": {
            "text/plain": [
              "array([[3.30929947e-03, 1.37983108e-04, 8.52422905e-04, 3.03512365e-01,\n",
              "        6.21063460e-04, 6.35485828e-01, 7.65773514e-03, 8.64610920e-05,\n",
              "        4.79003936e-02, 4.36394708e-04],\n",
              "       [1.04239151e-01, 1.73395313e-02, 4.42597258e-04, 7.39783991e-06,\n",
              "        1.44251699e-05, 2.12274614e-07, 1.11622103e-06, 7.42845145e-08,\n",
              "        8.77523482e-01, 4.31908848e-04],\n",
              "       [3.31859142e-02, 1.02207027e-02, 3.15583311e-04, 6.38551486e-04,\n",
              "        7.72065032e-05, 5.46467782e-05, 3.49019683e-05, 1.93199867e-05,\n",
              "        9.54345644e-01, 1.10750797e-03],\n",
              "       [8.01952839e-01, 2.63147126e-03, 5.07785082e-02, 6.89931854e-04,\n",
              "        2.37033963e-02, 5.52577731e-05, 3.29047791e-04, 2.09642356e-04,\n",
              "        1.19458996e-01, 1.90798921e-04],\n",
              "       [4.16511693e-06, 1.39084132e-05, 6.12783479e-03, 1.18988631e-02,\n",
              "        7.13382900e-01, 2.35782820e-03, 2.66147494e-01, 3.52237912e-05,\n",
              "        3.07315568e-05, 9.83461291e-07]], dtype=float32)"
            ]
          },
          "metadata": {},
          "execution_count": 40
        }
      ]
    },
    {
      "cell_type": "code",
      "source": [
        "#check from the classes\n",
        "y_pred_classes = [np.argmax(element) for element in y_pred]\n",
        "y_pred_classes[:5]"
      ],
      "metadata": {
        "colab": {
          "base_uri": "https://localhost:8080/"
        },
        "id": "0sbwRNU_mXe8",
        "outputId": "2f62cac0-8ac9-4ced-86ad-a49a02fd0c05"
      },
      "execution_count": 47,
      "outputs": [
        {
          "output_type": "execute_result",
          "data": {
            "text/plain": [
              "[5, 8, 8, 0, 4]"
            ]
          },
          "metadata": {},
          "execution_count": 47
        }
      ]
    },
    {
      "cell_type": "markdown",
      "source": [
        "> # Comparison:\n",
        "The CNN model outperformed the ANN model on the CIFAR-10 dataset, primarily because of its ability to learn and exploit the spatial structure of the images. This reinforces the strength of CNNs for image-based machine learning tasks.\n",
        "\n",
        "> ### ANN (Artificial Neural Network):\n",
        ">1. Architecture: A traditional neural network with fully connected layers.\n",
        "> 2. Performance: Achieved a lower accuracy compared to the CNN. The model had have difficulties learning complex patterns in the images.\n",
        "> 3. Data Handling: Requires flattening the images into a 1D array, which loses spatial information.\n",
        "\n",
        "> ### CNN (Convolutional Neural Network)\n",
        "> 1. Architecture: Designed for image data, uses convolutional and pooling layers to extract features.\n",
        "> 2. Performance: Achieved higher accuracy on the test set. Hence CNN can do better feature extraction and can learn better the of patterns within the images.\n",
        "> 3. Data Handling: Works directly on image data, preserving spatial information crucial for image recognition tasks.\n",
        "\n"
      ],
      "metadata": {
        "id": "kjPLrrxboNZL"
      }
    }
  ]
}